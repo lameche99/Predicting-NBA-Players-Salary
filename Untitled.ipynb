{
 "cells": [
  {
   "cell_type": "code",
   "execution_count": 1,
   "id": "a875b0d3",
   "metadata": {},
   "outputs": [
    {
     "name": "stdout",
     "output_type": "stream",
     "text": [
      "Requirement already satisfied: seaborn in c:\\users\\attu3\\miniconda3\\envs\\ml_hw2\\lib\\site-packages (0.11.1)\n",
      "Requirement already satisfied: pandas>=0.23 in c:\\users\\attu3\\miniconda3\\envs\\ml_hw2\\lib\\site-packages (from seaborn) (1.2.4)\n",
      "Requirement already satisfied: numpy>=1.15 in c:\\users\\attu3\\miniconda3\\envs\\ml_hw2\\lib\\site-packages (from seaborn) (1.20.2)\n",
      "Requirement already satisfied: matplotlib>=2.2 in c:\\users\\attu3\\miniconda3\\envs\\ml_hw2\\lib\\site-packages (from seaborn) (3.3.4)\n",
      "Requirement already satisfied: scipy>=1.0 in c:\\users\\attu3\\miniconda3\\envs\\ml_hw2\\lib\\site-packages (from seaborn) (1.6.2)\n",
      "Requirement already satisfied: pillow>=6.2.0 in c:\\users\\attu3\\miniconda3\\envs\\ml_hw2\\lib\\site-packages (from matplotlib>=2.2->seaborn) (8.2.0)\n",
      "Requirement already satisfied: pyparsing!=2.0.4,!=2.1.2,!=2.1.6,>=2.0.3 in c:\\users\\attu3\\miniconda3\\envs\\ml_hw2\\lib\\site-packages (from matplotlib>=2.2->seaborn) (2.4.7)\n",
      "Requirement already satisfied: cycler>=0.10 in c:\\users\\attu3\\miniconda3\\envs\\ml_hw2\\lib\\site-packages (from matplotlib>=2.2->seaborn) (0.10.0)\n",
      "Requirement already satisfied: python-dateutil>=2.1 in c:\\users\\attu3\\miniconda3\\envs\\ml_hw2\\lib\\site-packages (from matplotlib>=2.2->seaborn) (2.8.1)\n",
      "Requirement already satisfied: kiwisolver>=1.0.1 in c:\\users\\attu3\\miniconda3\\envs\\ml_hw2\\lib\\site-packages (from matplotlib>=2.2->seaborn) (1.3.1)\n",
      "Requirement already satisfied: six in c:\\users\\attu3\\miniconda3\\envs\\ml_hw2\\lib\\site-packages (from cycler>=0.10->matplotlib>=2.2->seaborn) (1.16.0)\n",
      "Requirement already satisfied: pytz>=2017.3 in c:\\users\\attu3\\miniconda3\\envs\\ml_hw2\\lib\\site-packages (from pandas>=0.23->seaborn) (2021.1)\n"
     ]
    }
   ],
   "source": [
    "! pip install seaborn"
   ]
  }
 ],
 "metadata": {
  "kernelspec": {
   "display_name": "Python 3",
   "language": "python",
   "name": "python3"
  },
  "language_info": {
   "codemirror_mode": {
    "name": "ipython",
    "version": 3
   },
   "file_extension": ".py",
   "mimetype": "text/x-python",
   "name": "python",
   "nbconvert_exporter": "python",
   "pygments_lexer": "ipython3",
   "version": "3.9.5"
  }
 },
 "nbformat": 4,
 "nbformat_minor": 5
}
